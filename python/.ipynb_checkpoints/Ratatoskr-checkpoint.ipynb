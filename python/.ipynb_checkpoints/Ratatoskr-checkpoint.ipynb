{
 "cells": [
  {
   "cell_type": "code",
   "execution_count": null,
   "metadata": {
    "collapsed": false
   },
   "outputs": [],
   "source": [
    "from ratatoskr import core, common, ndga, charts\n",
    "from bokeh.plotting import output_notebook\n",
    "output_notebook()"
   ]
  },
  {
   "cell_type": "code",
   "execution_count": null,
   "metadata": {
    "collapsed": false
   },
   "outputs": [],
   "source": [
    "problem = common.Problem(ndga.EvaluationFunctions.evalOneMax(), 100, 30)\n",
    "session = ndga.Session(problem)\n",
    "\n",
    "conf = session.configuration\n",
    "conf.system.complete = True\n",
    "conf.system.epochs = 10\n",
    "conf.system.episodes = 1\n",
    "conf.system.generations = 100\n",
    "\n",
    "conf.initializer.threads = 3\n",
    "conf.evaluator.threads = 3\n",
    "conf.breeder.threads = 3\n",
    "\n",
    "system = session.build()\n",
    "system.run()"
   ]
  },
  {
   "cell_type": "code",
   "execution_count": null,
   "metadata": {
    "collapsed": false
   },
   "outputs": [],
   "source": [
    "stat = system.statistics\n",
    "charts.rfc(stat)"
   ]
  },
  {
   "cell_type": "code",
   "execution_count": null,
   "metadata": {
    "collapsed": true
   },
   "outputs": [],
   "source": []
  }
 ],
 "metadata": {
  "anaconda-cloud": {},
  "kernelspec": {
   "display_name": "Python [conda root]",
   "language": "python",
   "name": "conda-root-py"
  },
  "language_info": {
   "codemirror_mode": {
    "name": "ipython",
    "version": 3
   },
   "file_extension": ".py",
   "mimetype": "text/x-python",
   "name": "python",
   "nbconvert_exporter": "python",
   "pygments_lexer": "ipython3",
   "version": "3.5.2"
  }
 },
 "nbformat": 4,
 "nbformat_minor": 2
}
